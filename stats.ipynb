{
 "cells": [
  {
   "cell_type": "code",
   "execution_count": 1,
   "metadata": {
    "ExecuteTime": {
     "end_time": "2019-04-15T16:33:08.809685",
     "start_time": "2019-04-15T16:33:08.768195"
    }
   },
   "outputs": [],
   "source": [
    "import csv\n",
    "import re"
   ]
  },
  {
   "cell_type": "code",
   "execution_count": 2,
   "metadata": {
    "ExecuteTime": {
     "end_time": "2019-04-15T16:33:10.090651",
     "start_time": "2019-04-15T16:33:10.058360"
    }
   },
   "outputs": [],
   "source": [
    "codeblockre = re.compile(r\"```.*?```\")\n",
    "\n",
    "def count_matches(exp):\n",
    "    counter = 0\n",
    "    lines = 0\n",
    "    with open(\"review_comments.csv\") as fin:\n",
    "        fin.readline()\n",
    "        for _, _, _, _, _, msg in csv.reader(fin):\n",
    "            lines += 1\n",
    "            msg = codeblockre.sub(\"\", msg)\n",
    "            counter += bool(exp.search(msg))\n",
    "    print(counter, counter / lines)\n",
    "    return counter"
   ]
  },
  {
   "cell_type": "code",
   "execution_count": 28,
   "metadata": {
    "ExecuteTime": {
     "end_time": "2019-04-14T17:48:30.733660",
     "start_time": "2019-04-14T17:45:49.910077"
    }
   },
   "outputs": [
    {
     "name": "stdout",
     "output_type": "stream",
     "text": [
      "184496 0.007285559037606146\n"
     ]
    },
    {
     "data": {
      "text/plain": [
       "184496"
      ]
     },
     "execution_count": 28,
     "metadata": {},
     "output_type": "execute_result"
    }
   ],
   "source": [
    "count_matches(re.compile(r\"(^s/.*?/)|typo\", re.IGNORECASE))"
   ]
  },
  {
   "cell_type": "code",
   "execution_count": 29,
   "metadata": {
    "ExecuteTime": {
     "end_time": "2019-04-14T17:53:19.340082",
     "start_time": "2019-04-14T17:48:30.735830"
    }
   },
   "outputs": [
    {
     "name": "stdout",
     "output_type": "stream",
     "text": [
      "929665 0.03671152351647796\n"
     ]
    },
    {
     "data": {
      "text/plain": [
       "929665"
      ]
     },
     "execution_count": 29,
     "metadata": {},
     "output_type": "execute_result"
    }
   ],
   "source": [
    "count_matches(re.compile(r\"indent|(^|[^a-z])tab($|[^a-z])|space\", re.IGNORECASE))"
   ]
  },
  {
   "cell_type": "code",
   "execution_count": 30,
   "metadata": {
    "ExecuteTime": {
     "end_time": "2019-04-14T18:07:46.689358",
     "start_time": "2019-04-14T18:03:24.028856"
    }
   },
   "outputs": [
    {
     "name": "stdout",
     "output_type": "stream",
     "text": [
      "432429 0.01707618056257582\n"
     ]
    },
    {
     "data": {
      "text/plain": [
       "432429"
      ]
     },
     "execution_count": 30,
     "metadata": {},
     "output_type": "execute_result"
    }
   ],
   "source": [
    "count_matches(re.compile(r\"line\\s.*\\stoo long|(new|empty|blank|extra)\\s*line\", re.IGNORECASE))"
   ]
  },
  {
   "cell_type": "code",
   "execution_count": 31,
   "metadata": {
    "ExecuteTime": {
     "end_time": "2019-04-14T18:12:05.577814",
     "start_time": "2019-04-14T18:10:24.468624"
    }
   },
   "outputs": [
    {
     "name": "stdout",
     "output_type": "stream",
     "text": [
      "214246 0.008460356222199757\n"
     ]
    },
    {
     "data": {
      "text/plain": [
       "214246"
      ]
     },
     "execution_count": 31,
     "metadata": {},
     "output_type": "execute_result"
    }
   ],
   "source": [
    "count_matches(re.compile(r\"quote\", re.IGNORECASE))"
   ]
  },
  {
   "cell_type": "code",
   "execution_count": 32,
   "metadata": {
    "ExecuteTime": {
     "end_time": "2019-04-14T18:17:02.631696",
     "start_time": "2019-04-14T18:13:43.948136"
    }
   },
   "outputs": [
    {
     "name": "stdout",
     "output_type": "stream",
     "text": [
      "214384 0.008465805701577032\n"
     ]
    },
    {
     "data": {
      "text/plain": [
       "214384"
      ]
     },
     "execution_count": 32,
     "metadata": {},
     "output_type": "execute_result"
    }
   ],
   "source": [
    "count_matches(re.compile(r\"rename|(change|better)\\s+name\", re.IGNORECASE))"
   ]
  },
  {
   "cell_type": "code",
   "execution_count": 33,
   "metadata": {
    "ExecuteTime": {
     "end_time": "2019-04-14T18:21:20.356698",
     "start_time": "2019-04-14T18:17:02.633462"
    }
   },
   "outputs": [
    {
     "name": "stdout",
     "output_type": "stream",
     "text": [
      "114502 0.004521567301860089\n"
     ]
    },
    {
     "data": {
      "text/plain": [
       "114502"
      ]
     },
     "execution_count": 33,
     "metadata": {},
     "output_type": "execute_result"
    }
   ],
   "source": [
    "count_matches(re.compile(r\"(camel|snake|pascal|upper|lower).*case\", re.IGNORECASE))"
   ]
  },
  {
   "cell_type": "code",
   "execution_count": 3,
   "metadata": {
    "ExecuteTime": {
     "end_time": "2019-04-15T16:37:29.330010",
     "start_time": "2019-04-15T16:33:31.559683"
    }
   },
   "outputs": [
    {
     "name": "stdout",
     "output_type": "stream",
     "text": [
      "1288467 0.05088024887535382\n"
     ]
    },
    {
     "data": {
      "text/plain": [
       "1288467"
      ]
     },
     "execution_count": 3,
     "metadata": {},
     "output_type": "execute_result"
    }
   ],
   "source": [
    "count_matches(re.compile(r\"comment|document\", re.IGNORECASE))"
   ]
  },
  {
   "cell_type": "code",
   "execution_count": 4,
   "metadata": {
    "ExecuteTime": {
     "end_time": "2019-04-15T16:38:55.884722",
     "start_time": "2019-04-15T16:38:55.871742"
    }
   },
   "outputs": [
    {
     "data": {
      "text/plain": [
       "0.14975856437019813"
      ]
     },
     "execution_count": 4,
     "metadata": {},
     "output_type": "execute_result"
    }
   ],
   "source": [
    "(184496 + 929665 + 432429 + 214246 + 214384 + 114502 + 414225 + 1288467) / 114502 * 0.004521567301860089"
   ]
  },
  {
   "cell_type": "code",
   "execution_count": 37,
   "metadata": {
    "ExecuteTime": {
     "end_time": "2019-04-14T19:44:57.608915",
     "start_time": "2019-04-14T19:44:57.605293"
    }
   },
   "outputs": [
    {
     "data": {
      "text/plain": [
       "25323520.0"
      ]
     },
     "execution_count": 37,
     "metadata": {},
     "output_type": "execute_result"
    }
   ],
   "source": [
    "114502 / 0.004521567301860089"
   ]
  },
  {
   "cell_type": "code",
   "execution_count": 6,
   "metadata": {
    "ExecuteTime": {
     "end_time": "2019-04-15T16:42:19.453249",
     "start_time": "2019-04-15T16:42:19.433857"
    }
   },
   "outputs": [
    {
     "name": "stdout",
     "output_type": "stream",
     "text": [
      "173.32315845108957 72.33170116114732 313.8646740661577 145.99257489714523\n"
     ]
    }
   ],
   "source": [
    "names = (214384 + 114502 + 184496) / 1288467\n",
    "quotes = 214246 / 1288467\n",
    "indentation = 929665 / 1288467\n",
    "lines = 432429 / 1288467\n",
    "docs = 1288467\n",
    "\n",
    "print(names * 435, quotes * 435, indentation * 435, lines * 435)"
   ]
  },
  {
   "cell_type": "code",
   "execution_count": null,
   "metadata": {},
   "outputs": [],
   "source": []
  }
 ],
 "metadata": {
  "kernelspec": {
   "display_name": "Python 3",
   "language": "python",
   "name": "python3"
  },
  "language_info": {
   "codemirror_mode": {
    "name": "ipython",
    "version": 3
   },
   "file_extension": ".py",
   "mimetype": "text/x-python",
   "name": "python",
   "nbconvert_exporter": "python",
   "pygments_lexer": "ipython3",
   "version": "3.7.1"
  },
  "notify_time": "5"
 },
 "nbformat": 4,
 "nbformat_minor": 2
}
